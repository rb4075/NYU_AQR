{
 "cells": [
  {
   "cell_type": "markdown",
   "metadata": {},
   "source": [
    "# Statistics I & II"
   ]
  },
  {
   "cell_type": "markdown",
   "metadata": {},
   "source": [
    "### Part 1. _Analyzing Stop and Frisk Data_\n",
    "\n",
    "An analysis by the NYCLU revealed that innocent New Yorkers have been subjected to police stops and street interrogations more than 5 million times since 2002, and that black and Latino communities continue to be the overwhelming target of these tactics. Nearly nine out of 10 stopped-and-frisked New Yorkers have been completely innocent. <br>\n",
    "\n",
    "The defenders of Stop & Frisk have said that the stops have been random and as such they've been able to reduce the crime rates in the city. However, you feel that you the arrests have been leveled in an unfair manner and more so against black people in the city. <br>\n",
    "\n",
    "As such you set out to investigate this and look at the stop and frisk data from 2003 - 2017. The data is provided as excel files in the NYPD website below:\n",
    "\n",
    "<img src = '.\\stopfrisk\\stop_frisk.png'>\n",
    "\n",
    "You realize that some of the files are not like the others but you have enough information from the files to make your analysis work. You are certainely interested in establishing whether, for the stops that didn't lead to an arrest (where no offense was found), was the choice to stop the subject random or not. In this analysis, you will  have to consider the population of NYC as found in the census website below.\n",
    "\n",
    "<img src = '.\\stopfrisk\\population.png'>\n",
    "\n",
    "### Your task\n",
    "\n",
    "Your task is to come up with the statistic and the model needed to find out whether the stop and frisk program could actually be biased in its treatment of NYC's black population. Could it be biased? Or it is as random as the NYPD claims?\n",
    "\n",
    "### Please note\n",
    "\n",
    "Please take the time to study the files. The codebook to the files is provided. \n",
    "<br>\n",
    "Making the time upfront to understand the data and the task you are supposed to do is useful. It iwll make the task of putting together the files to come up with the conviction rates plus coming up with the statistic and the simulations very straightforward. <br>\n",
    "The goal of the question is to get you using all the skills you have learned in class to do the kind of work you'd be doing outside of a class environment."
   ]
  },
  {
   "cell_type": "raw",
   "metadata": {},
   "source": [
    "Some notes:\n",
    "\n",
    "Prior to 2017, the following keys stand for race:\n",
    "\n",
    "A Asian Pacific\n",
    "B Black\n",
    "I American Indian\n",
    "P Black Hispanic\n",
    "Q White Hispanic\n",
    "W White\n",
    "X Unknown\n",
    "Z Other\n",
    "\n",
    "Also note, prior to 2017, there isn't an explicit arrest column. But please observe that anything found on anyone led to arrests.\n",
    "\n",
    "Some useful resources:\n",
    "- Sometime, when you read CSV files, their encoding will be off. In order to mitigate this, please see this posting on how to encode errors in Pandas read_csv: https://stackoverflow.com/questions/30462807/encoding-error-in-panda-read-csv\n",
    "\n",
    "- Similarly, some files will have mixed types wehn you opn them. When opening CSV files that have mixed types, using dtype='unicode' in your read_csv(...) function should kill the errors / warnings"
   ]
  },
  {
   "cell_type": "code",
   "execution_count": 15,
   "metadata": {},
   "outputs": [],
   "source": [
    "import pandas as pd\n",
    "import numpy as np"
   ]
  },
  {
   "cell_type": "code",
   "execution_count": 218,
   "metadata": {},
   "outputs": [],
   "source": [
    "# Merge 2003-2016 CSVs\n",
    "import pandas as pd\n",
    "filenames= ['2003.csv', '2004.csv', '2005.csv', '2006.csv', '2007.csv', '2008.csv',\n",
    "            '2009.csv','2010.csv','2011.csv','2012.csv','2013.csv','2014.csv','2015.csv','2016.csv']\n",
    "dfs = []\n",
    "\n",
    "for filename in filenames:\n",
    "    dfs.append(pd.read_csv(filename, dtype='unicode', encoding ='latin1'))\n",
    "dfs = pd.concat(dfs,sort=False)"
   ]
  },
  {
   "cell_type": "code",
   "execution_count": 220,
   "metadata": {},
   "outputs": [],
   "source": [
    "#keep only cols of interest\n",
    "df1 = dfs[['year', 'arstmade', 'race']]"
   ]
  },
  {
   "cell_type": "code",
   "execution_count": 294,
   "metadata": {},
   "outputs": [],
   "source": [
    "#Read 2017 CSV- I chose to read and clean this dataframe separately, as the data is organized \n",
    "#differently from previous years\n",
    "df17 = pd.read_csv('2017.csv')\n",
    "df17 = df17[['year', 'arstmade', 'race']]"
   ]
  },
  {
   "cell_type": "code",
   "execution_count": 295,
   "metadata": {},
   "outputs": [],
   "source": [
    "#recode 2017 dataframe to match 2003-2016\n",
    "df17['race'] = df17['race'].replace(['WHITE'], 'W')\n",
    "df17['race'] = df17['race'].replace(['BLACK HISPANIC'], 'P')\n",
    "df17['race'] = df17['race'].replace(['BLACK'], 'B')\n",
    "df17['race'] = df17['race'].replace(['WHITE HISPANIC'], 'Q')\n",
    "df17['race'] = df17['race'].replace(['ASIAN/PAC.ISL'], 'A')\n",
    "df17['race'] = df17['race'].replace(['AMER IND'], 'I')\n",
    "df17['race'] = df17['race'].replace(['MALE'], 'X')"
   ]
  },
  {
   "cell_type": "code",
   "execution_count": 297,
   "metadata": {},
   "outputs": [],
   "source": [
    "#combine 2003-2016 dataframe with 2017 dataframe\n",
    "dfr = []\n",
    "dfr.append(df1)\n",
    "dfr.append(df17)\n",
    "dfr\n",
    "dfr = pd.concat(dfr,sort=False)"
   ]
  },
  {
   "cell_type": "code",
   "execution_count": 312,
   "metadata": {},
   "outputs": [],
   "source": [
    "#drop blank, null, unknown race and stops where an arrest was made \n",
    "dfr['race'] = dfr['race'].replace([' '], '(null)')\n",
    "dfr['arstmade'] = dfr['arstmade'].replace([' '], '(null)')\n",
    "dfr = dfr[(dfr['race'] != '(null)') & (dfr['arstmade']!= '(null)') & (dfr['race'] != 'X') & (dfr['race'] != 'U')]\n",
    "#drop if arrest was made \n",
    "dfr = dfr[(dfr['arstmade']== 'Y')]"
   ]
  },
  {
   "cell_type": "code",
   "execution_count": 363,
   "metadata": {},
   "outputs": [
    {
     "data": {
      "text/html": [
       "<div>\n",
       "<style scoped>\n",
       "    .dataframe tbody tr th:only-of-type {\n",
       "        vertical-align: middle;\n",
       "    }\n",
       "\n",
       "    .dataframe tbody tr th {\n",
       "        vertical-align: top;\n",
       "    }\n",
       "\n",
       "    .dataframe thead th {\n",
       "        text-align: right;\n",
       "    }\n",
       "</style>\n",
       "<table border=\"1\" class=\"dataframe\">\n",
       "  <thead>\n",
       "    <tr style=\"text-align: right;\">\n",
       "      <th></th>\n",
       "      <th>sum</th>\n",
       "      <th>perc</th>\n",
       "    </tr>\n",
       "    <tr>\n",
       "      <th>race</th>\n",
       "      <th></th>\n",
       "      <th></th>\n",
       "    </tr>\n",
       "  </thead>\n",
       "  <tbody>\n",
       "    <tr>\n",
       "      <th>A</th>\n",
       "      <td>9850</td>\n",
       "      <td>0.031904</td>\n",
       "    </tr>\n",
       "    <tr>\n",
       "      <th>B</th>\n",
       "      <td>157921</td>\n",
       "      <td>0.511507</td>\n",
       "    </tr>\n",
       "    <tr>\n",
       "      <th>I</th>\n",
       "      <td>969</td>\n",
       "      <td>0.003139</td>\n",
       "    </tr>\n",
       "    <tr>\n",
       "      <th>P</th>\n",
       "      <td>21426</td>\n",
       "      <td>0.069399</td>\n",
       "    </tr>\n",
       "    <tr>\n",
       "      <th>Q</th>\n",
       "      <td>77806</td>\n",
       "      <td>0.252014</td>\n",
       "    </tr>\n",
       "    <tr>\n",
       "      <th>W</th>\n",
       "      <td>32334</td>\n",
       "      <td>0.104730</td>\n",
       "    </tr>\n",
       "    <tr>\n",
       "      <th>Z</th>\n",
       "      <td>8431</td>\n",
       "      <td>0.027308</td>\n",
       "    </tr>\n",
       "  </tbody>\n",
       "</table>\n",
       "</div>"
      ],
      "text/plain": [
       "         sum      perc\n",
       "race                  \n",
       "A       9850  0.031904\n",
       "B     157921  0.511507\n",
       "I        969  0.003139\n",
       "P      21426  0.069399\n",
       "Q      77806  0.252014\n",
       "W      32334  0.104730\n",
       "Z       8431  0.027308"
      ]
     },
     "execution_count": 363,
     "metadata": {},
     "output_type": "execute_result"
    }
   ],
   "source": [
    "#here we can see that black (black + hispanic black) stops made up 58% of all stops that did not lead to an arrest\n",
    "df_race=dfr.groupby(['race','arstmade']).arstmade.agg('count')\n",
    "df_race=df_race.groupby('race').agg(['sum'])\n",
    "df_race['perc']= df_race['sum']/df_race['sum'].sum()\n",
    "df_race"
   ]
  },
  {
   "cell_type": "code",
   "execution_count": 326,
   "metadata": {},
   "outputs": [
    {
     "data": {
      "text/plain": [
       "array([25, 75])"
      ]
     },
     "execution_count": 326,
     "metadata": {},
     "output_type": "execute_result"
    }
   ],
   "source": [
    "# Based on the black population 25.5% of NYC's total, we would expect ~25% of stops that did not lead to an \n",
    "#arrest to be of blacks if the stops were random. (Source: NYC Planning Data on 2010 Decennial Census)\n",
    "panel = [0.255, 0.745]\n",
    "sample_panel = np.random.multinomial(100, panel)\n",
    "sample_panel"
   ]
  },
  {
   "cell_type": "code",
   "execution_count": 328,
   "metadata": {},
   "outputs": [],
   "source": [
    "# Run a simulation model based on the statistic \n",
    "simulations = ()\n",
    "num_simulations = 10000\n",
    "\n",
    "for i in np.arange(num_simulations):\n",
    "    sample_panel = np.random.multinomial(100, panel)[0]\n",
    "    simulations = np.append(simulations, sample_panel)"
   ]
  },
  {
   "cell_type": "code",
   "execution_count": 329,
   "metadata": {},
   "outputs": [
    {
     "data": {
      "image/png": "[encoded data removed]",
      "text/plain": [
       "<Figure size 432x288 with 1 Axes>"
      ]
     },
     "metadata": {
      "needs_background": "light"
     },
     "output_type": "display_data"
    }
   ],
   "source": [
    "#Plot simulation \n",
    "plt.hist(simulations, bins = np.arange(0, 51, 1) );"
   ]
  },
  {
   "cell_type": "code",
   "execution_count": 364,
   "metadata": {},
   "outputs": [
    {
     "data": {
      "image/png": "[encoded data removed]",
      "text/plain": [
       "<Figure size 432x288 with 1 Axes>"
      ]
     },
     "metadata": {
      "needs_background": "light"
     },
     "output_type": "display_data"
    }
   ],
   "source": [
    "#58% of all stops that did not lead to an arrest were of blacks. 58% falls far outside our simulated distribution,\n",
    "#and is much greater than we would expect if the stops were done at random. It seems unlikely that the stops that\n",
    "#did not lead to arrests were done randomly by race.\n",
    "plt.hist(simulations, bins = np.arange(0, 51, 1) )\n",
    "plt.scatter(58, 0, color='red', s=100);"
   ]
  },
  {
   "cell_type": "markdown",
   "metadata": {},
   "source": [
    "### Part 2: *Earnings, gender & height*"
   ]
  },
  {
   "cell_type": "markdown",
   "metadata": {},
   "source": [
    "### Background on the data\n",
    "The National Longitudinal Surveys (NLS) are a set of surveys designed to gather information at multiple points in time on the labor market activities and other significant life events of several groups of men and women. For more than 4 decades, NLS data have served as an important tool for economists, sociologists, and other researchers. <br>\n",
    "\n",
    "The NLS has 7 major cohorts that it has studied ( we are interested in the ones highlighted ): \n",
    "- **National Longitudinal Survey of Youth 1997 (NLSY97)**\n",
    "- **National Longitudinal Survey of Youth 1979 (NLSY79)**\n",
    "- NLSY79 Child and Young Adult\n",
    "- Older Men\n",
    "- Mature Women\n",
    "- Young Men\n",
    "- Young Women\n",
    "\n",
    "The NLS has two major National Longitudinal Surveys of Youth (NLSY). One is from 1979 and the other is from 1997. Both collect data on employment, income, and personal characteristics from cohorts of people who were young at the time the surveys started. More specifically, 14 to 22 years old for NLSY79 and 12 to 17 years old for NLSY97. <br>\n",
    "\n",
    "The latest datasets are from 2014 for NLSY79 and 2015 for NLSY97. Meaning that respondents would be in the 50s and their 30s, respectively.<br>\n",
    "\n",
    "### Your task\n",
    "\n",
    "The current task at hand is to look at the distribution of height and decide on who is tall / short. <br><br>\n",
    "\n",
    "Then based on this, you want to see how the income distribution is according to a person being tall / short. With the pattern that you find, and that which points to a difference, you would like to test a set of hypotheses. <br><br>\n",
    "\n",
    "One ( the null) is that the income distribution is random while the alternative is that indeed, heights and income have a relationship.<br><br>\n",
    "\n",
    "Because both datasets are at their peak earning, please use both data sets (NLSY97 and NLSY79). Your analyses should be separate. Not all the data will be complete, so please clean your data accordingly and also make conclusions based on what you see.\n",
    "\n",
    "\n",
    "### Where to get the gender, height, and earnings data\n",
    "\n",
    "You can get the sex, height and earnings data from the NLS website. \n",
    "\n",
    "https://www.nlsinfo.org/investigator/pages/login.jsp\n",
    "\n",
    "Use the search method to get you the right data that you want. Do this seprately for both the NYLS79 and NYLS97 data.\n",
    "\n",
    "\n",
    "**As an example, to get the gender of NLSY97 from the site you would go to variable search and look for gender in Variable Search under the search tab. You would then click on add to add the data. In addition, you would then look for height (both feet and inches) in 2015 and earnings in 2014 or 2015 (or whichever you find as the latest).**\n",
    "\n",
    "<img src = './earnings/gender.png'>\n",
    "\n",
    "After that you can review the variables that you have chosen under the review tab\n",
    "\n",
    "<img src = './earnings/review.png' width=\"75%\" height=\"75%\">\n",
    "\n",
    "And then make sure to save your work as a CSV.\n",
    "<img src = './earnings/download.png' width=\"75%\" height=\"75%\">\n",
    "\n",
    "### Imortant Notice: Existence of similar work\n",
    "\n",
    "There exists similar work on this studies on the internet. Please, if you need to, use that work more as a guide but not as the answer, as the computation and expected product from this is different from what you will see out there. Pay attention to the nuances to not be penalized for plagiarism."
   ]
  },
  {
   "cell_type": "code",
   "execution_count": 125,
   "metadata": {},
   "outputs": [],
   "source": [
    "import pandas as pd\n",
    "df79 = pd.read_csv('NLSY1979_heightinc.csv')\n",
    "df97 = pd.read_csv('NLSY1997_heightinc.csv')"
   ]
  },
  {
   "cell_type": "code",
   "execution_count": 126,
   "metadata": {},
   "outputs": [],
   "source": [
    "#data cleaning: remove N/A values & add total height variable \n",
    "df79['height'] = df79['ft']*12 + df79['in']\n",
    "df79 = df79[(df79['ft'] >=0) & (df79['income']>=0)]\n",
    "df97['height'] = df97['ft']*12 + df97['in']\n",
    "df97 = df97[(df97['ft'] >=0) & (df97['income']>=0)]"
   ]
  },
  {
   "cell_type": "code",
   "execution_count": 76,
   "metadata": {},
   "outputs": [
    {
     "data": {
      "text/plain": [
       "count    6504.000000\n",
       "mean       67.084256\n",
       "std         4.243181\n",
       "min        31.000000\n",
       "25%        64.000000\n",
       "50%        67.000000\n",
       "75%        70.000000\n",
       "max       145.000000\n",
       "Name: height, dtype: float64"
      ]
     },
     "execution_count": 76,
     "metadata": {},
     "output_type": "execute_result"
    }
   ],
   "source": [
    "#examine height distributions \n",
    "df79['height'].describe()"
   ]
  },
  {
   "cell_type": "code",
   "execution_count": 77,
   "metadata": {},
   "outputs": [
    {
     "data": {
      "text/plain": [
       "count    4699.000000\n",
       "mean       67.672058\n",
       "std         4.262553\n",
       "min        13.000000\n",
       "25%        64.000000\n",
       "50%        68.000000\n",
       "75%        71.000000\n",
       "max        88.000000\n",
       "Name: height, dtype: float64"
      ]
     },
     "execution_count": 77,
     "metadata": {},
     "output_type": "execute_result"
    }
   ],
   "source": [
    "df97['height'].describe()"
   ]
  },
  {
   "cell_type": "code",
   "execution_count": 72,
   "metadata": {},
   "outputs": [],
   "source": [
    "import matplotlib.pyplot as plt"
   ]
  },
  {
   "cell_type": "code",
   "execution_count": 73,
   "metadata": {},
   "outputs": [
    {
     "data": {
      "text/plain": [
       "(array([1.000e+00, 0.000e+00, 0.000e+00, 0.000e+00, 0.000e+00, 0.000e+00,\n",
       "        1.000e+00, 0.000e+00, 0.000e+00, 2.000e+00, 1.000e+01, 1.900e+01,\n",
       "        2.440e+02, 6.800e+02, 1.528e+03, 1.099e+03, 9.410e+02, 1.342e+03,\n",
       "        4.470e+02, 1.380e+02, 4.400e+01, 5.000e+00, 1.000e+00, 1.000e+00,\n",
       "        0.000e+00, 0.000e+00, 0.000e+00, 0.000e+00, 0.000e+00, 0.000e+00,\n",
       "        0.000e+00, 0.000e+00, 0.000e+00, 0.000e+00, 0.000e+00, 0.000e+00,\n",
       "        0.000e+00, 0.000e+00, 0.000e+00, 0.000e+00, 0.000e+00, 0.000e+00,\n",
       "        0.000e+00, 0.000e+00, 0.000e+00, 0.000e+00, 0.000e+00, 0.000e+00,\n",
       "        0.000e+00, 1.000e+00]),\n",
       " array([ 31.  ,  33.28,  35.56,  37.84,  40.12,  42.4 ,  44.68,  46.96,\n",
       "         49.24,  51.52,  53.8 ,  56.08,  58.36,  60.64,  62.92,  65.2 ,\n",
       "         67.48,  69.76,  72.04,  74.32,  76.6 ,  78.88,  81.16,  83.44,\n",
       "         85.72,  88.  ,  90.28,  92.56,  94.84,  97.12,  99.4 , 101.68,\n",
       "        103.96, 106.24, 108.52, 110.8 , 113.08, 115.36, 117.64, 119.92,\n",
       "        122.2 , 124.48, 126.76, 129.04, 131.32, 133.6 , 135.88, 138.16,\n",
       "        140.44, 142.72, 145.  ]),\n",
       " <a list of 50 Patch objects>)"
      ]
     },
     "execution_count": 73,
     "metadata": {},
     "output_type": "execute_result"
    },
    {
     "data": {
      "image/png": "[encoded data removed]",
      "text/plain": [
       "<Figure size 1080x360 with 1 Axes>"
      ]
     },
     "metadata": {
      "needs_background": "light"
     },
     "output_type": "display_data"
    }
   ],
   "source": [
    "#plot height distributions for further examination \n",
    "plt.figure(figsize=(15, 5))\n",
    "plt.hist(df79['height'],bins=50)"
   ]
  },
  {
   "cell_type": "code",
   "execution_count": 71,
   "metadata": {
    "scrolled": true
   },
   "outputs": [
    {
     "data": {
      "text/plain": [
       "(array([  1.,   0.,   0.,   0.,   0.,   0.,   0.,   0.,   0.,   0.,   0.,\n",
       "          0.,   0.,   0.,   0.,   0.,   0.,   0.,   0.,   0.,   0.,   0.,\n",
       "          0.,   1.,   0.,   0.,   2.,   0.,   0.,   6.,  49.,  94., 396.,\n",
       "        291., 669., 386., 790., 368., 685., 348., 393., 105.,  90.,  14.,\n",
       "          5.,   1.,   4.,   0.,   0.,   1.]),\n",
       " array([13. , 14.5, 16. , 17.5, 19. , 20.5, 22. , 23.5, 25. , 26.5, 28. ,\n",
       "        29.5, 31. , 32.5, 34. , 35.5, 37. , 38.5, 40. , 41.5, 43. , 44.5,\n",
       "        46. , 47.5, 49. , 50.5, 52. , 53.5, 55. , 56.5, 58. , 59.5, 61. ,\n",
       "        62.5, 64. , 65.5, 67. , 68.5, 70. , 71.5, 73. , 74.5, 76. , 77.5,\n",
       "        79. , 80.5, 82. , 83.5, 85. , 86.5, 88. ]),\n",
       " <a list of 50 Patch objects>)"
      ]
     },
     "execution_count": 71,
     "metadata": {},
     "output_type": "execute_result"
    },
    {
     "data": {
      "image/png": "[encoded data removed]",
      "text/plain": [
       "<Figure size 1080x360 with 1 Axes>"
      ]
     },
     "metadata": {
      "needs_background": "light"
     },
     "output_type": "display_data"
    }
   ],
   "source": [
    "plt.figure(figsize=(15, 5))\n",
    "plt.hist(df97['height'],bins=50)"
   ]
  },
  {
   "cell_type": "code",
   "execution_count": 130,
   "metadata": {},
   "outputs": [],
   "source": [
    "#used median as a cut-point to determine who is tall or short \n",
    "import numpy as np\n",
    "df79['tall'] = np.where(df79['height']<67, 'short', 'tall')\n",
    "df97['tall'] = np.where(df97['height']<68, 'short', 'tall')"
   ]
  },
  {
   "cell_type": "code",
   "execution_count": 133,
   "metadata": {},
   "outputs": [
    {
     "data": {
      "text/html": [
       "<div>\n",
       "<style scoped>\n",
       "    .dataframe tbody tr th:only-of-type {\n",
       "        vertical-align: middle;\n",
       "    }\n",
       "\n",
       "    .dataframe tbody tr th {\n",
       "        vertical-align: top;\n",
       "    }\n",
       "\n",
       "    .dataframe thead th {\n",
       "        text-align: right;\n",
       "    }\n",
       "</style>\n",
       "<table border=\"1\" class=\"dataframe\">\n",
       "  <thead>\n",
       "    <tr style=\"text-align: right;\">\n",
       "      <th></th>\n",
       "      <th>gender</th>\n",
       "      <th>ft</th>\n",
       "      <th>in</th>\n",
       "      <th>income</th>\n",
       "      <th>height</th>\n",
       "    </tr>\n",
       "    <tr>\n",
       "      <th>tall</th>\n",
       "      <th></th>\n",
       "      <th></th>\n",
       "      <th></th>\n",
       "      <th></th>\n",
       "      <th></th>\n",
       "    </tr>\n",
       "  </thead>\n",
       "  <tbody>\n",
       "    <tr>\n",
       "      <th>short</th>\n",
       "      <td>1.883645</td>\n",
       "      <td>4.964930</td>\n",
       "      <td>3.873812</td>\n",
       "      <td>29328.067847</td>\n",
       "      <td>63.452966</td>\n",
       "    </tr>\n",
       "    <tr>\n",
       "      <th>tall</th>\n",
       "      <td>1.199826</td>\n",
       "      <td>5.308717</td>\n",
       "      <td>6.588184</td>\n",
       "      <td>53998.601216</td>\n",
       "      <td>70.292789</td>\n",
       "    </tr>\n",
       "  </tbody>\n",
       "</table>\n",
       "</div>"
      ],
      "text/plain": [
       "         gender        ft        in        income     height\n",
       "tall                                                        \n",
       "short  1.883645  4.964930  3.873812  29328.067847  63.452966\n",
       "tall   1.199826  5.308717  6.588184  53998.601216  70.292789"
      ]
     },
     "execution_count": 133,
     "metadata": {},
     "output_type": "execute_result"
    }
   ],
   "source": [
    "#we can see there's a pretty sizable difference between median income for tall and short R's in both datasets\n",
    "df79.groupby('tall').mean()"
   ]
  },
  {
   "cell_type": "code",
   "execution_count": 134,
   "metadata": {},
   "outputs": [
    {
     "data": {
      "text/html": [
       "<div>\n",
       "<style scoped>\n",
       "    .dataframe tbody tr th:only-of-type {\n",
       "        vertical-align: middle;\n",
       "    }\n",
       "\n",
       "    .dataframe tbody tr th {\n",
       "        vertical-align: top;\n",
       "    }\n",
       "\n",
       "    .dataframe thead th {\n",
       "        text-align: right;\n",
       "    }\n",
       "</style>\n",
       "<table border=\"1\" class=\"dataframe\">\n",
       "  <thead>\n",
       "    <tr style=\"text-align: right;\">\n",
       "      <th></th>\n",
       "      <th>gender</th>\n",
       "      <th>ft</th>\n",
       "      <th>in</th>\n",
       "      <th>income</th>\n",
       "      <th>height</th>\n",
       "    </tr>\n",
       "    <tr>\n",
       "      <th>tall</th>\n",
       "      <th></th>\n",
       "      <th></th>\n",
       "      <th></th>\n",
       "      <th></th>\n",
       "      <th></th>\n",
       "    </tr>\n",
       "  </thead>\n",
       "  <tbody>\n",
       "    <tr>\n",
       "      <th>short</th>\n",
       "      <td>1.825864</td>\n",
       "      <td>4.974819</td>\n",
       "      <td>4.48997</td>\n",
       "      <td>38455.454972</td>\n",
       "      <td>64.187793</td>\n",
       "    </tr>\n",
       "    <tr>\n",
       "      <th>tall</th>\n",
       "      <td>1.139643</td>\n",
       "      <td>5.406621</td>\n",
       "      <td>6.25764</td>\n",
       "      <td>49915.571307</td>\n",
       "      <td>71.137097</td>\n",
       "    </tr>\n",
       "  </tbody>\n",
       "</table>\n",
       "</div>"
      ],
      "text/plain": [
       "         gender        ft       in        income     height\n",
       "tall                                                       \n",
       "short  1.825864  4.974819  4.48997  38455.454972  64.187793\n",
       "tall   1.139643  5.406621  6.25764  49915.571307  71.137097"
      ]
     },
     "execution_count": 134,
     "metadata": {},
     "output_type": "execute_result"
    }
   ],
   "source": [
    "df97.groupby('tall').mean()"
   ]
  },
  {
   "cell_type": "code",
   "execution_count": 135,
   "metadata": {},
   "outputs": [
    {
     "data": {
      "text/html": [
       "<div>\n",
       "<style scoped>\n",
       "    .dataframe tbody tr th:only-of-type {\n",
       "        vertical-align: middle;\n",
       "    }\n",
       "\n",
       "    .dataframe tbody tr th {\n",
       "        vertical-align: top;\n",
       "    }\n",
       "\n",
       "    .dataframe thead th {\n",
       "        text-align: right;\n",
       "    }\n",
       "</style>\n",
       "<table border=\"1\" class=\"dataframe\">\n",
       "  <thead>\n",
       "    <tr style=\"text-align: right;\">\n",
       "      <th></th>\n",
       "      <th>gender</th>\n",
       "      <th>ft</th>\n",
       "      <th>in</th>\n",
       "      <th>income</th>\n",
       "      <th>height</th>\n",
       "    </tr>\n",
       "    <tr>\n",
       "      <th>tall</th>\n",
       "      <th></th>\n",
       "      <th></th>\n",
       "      <th></th>\n",
       "      <th></th>\n",
       "      <th></th>\n",
       "    </tr>\n",
       "  </thead>\n",
       "  <tbody>\n",
       "    <tr>\n",
       "      <th>short</th>\n",
       "      <td>3051</td>\n",
       "      <td>3051</td>\n",
       "      <td>3051</td>\n",
       "      <td>3051</td>\n",
       "      <td>3051</td>\n",
       "    </tr>\n",
       "    <tr>\n",
       "      <th>tall</th>\n",
       "      <td>3453</td>\n",
       "      <td>3453</td>\n",
       "      <td>3453</td>\n",
       "      <td>3453</td>\n",
       "      <td>3453</td>\n",
       "    </tr>\n",
       "  </tbody>\n",
       "</table>\n",
       "</div>"
      ],
      "text/plain": [
       "       gender    ft    in  income  height\n",
       "tall                                     \n",
       "short    3051  3051  3051    3051    3051\n",
       "tall     3453  3453  3453    3453    3453"
      ]
     },
     "execution_count": 135,
     "metadata": {},
     "output_type": "execute_result"
    }
   ],
   "source": [
    "#3051 \"short\" and 3453 \"tall\" in 1979 dataset\n",
    "df79.groupby('tall').count()"
   ]
  },
  {
   "cell_type": "code",
   "execution_count": 143,
   "metadata": {},
   "outputs": [],
   "source": [
    "average_scores79 = ()\n",
    "simulations = 1000\n",
    "for i in np.arange(simulations):\n",
    "    average_scores79 = np.append(average_scores79, df79['income'].sample(3453, replace = False).mean())"
   ]
  },
  {
   "cell_type": "code",
   "execution_count": 144,
   "metadata": {},
   "outputs": [
    {
     "data": {
      "image/png": "[encoded data removed]",
      "text/plain": [
       "<Figure size 432x288 with 1 Axes>"
      ]
     },
     "metadata": {
      "needs_background": "light"
     },
     "output_type": "display_data"
    }
   ],
   "source": [
    "plt.hist(average_scores79, alpha = 0.5)\n",
    "observed_inc = 53998.601216\n",
    "plt.scatter(observed_inc, 0, color='red', s=30);"
   ]
  },
  {
   "cell_type": "code",
   "execution_count": 148,
   "metadata": {},
   "outputs": [
    {
     "data": {
      "text/plain": [
       "0.0"
      ]
     },
     "execution_count": 148,
     "metadata": {},
     "output_type": "execute_result"
    }
   ],
   "source": [
    "np.count_nonzero(average_scores79 >= observed_inc)/simulations"
   ]
  },
  {
   "cell_type": "code",
   "execution_count": null,
   "metadata": {},
   "outputs": [],
   "source": [
    "#About 0% of the simulated random sample averages were $53,998 and above. \n",
    "#This provides evidence to reject the null hypothesis that the income distribution is random. "
   ]
  },
  {
   "cell_type": "code",
   "execution_count": 136,
   "metadata": {},
   "outputs": [
    {
     "data": {
      "text/html": [
       "<div>\n",
       "<style scoped>\n",
       "    .dataframe tbody tr th:only-of-type {\n",
       "        vertical-align: middle;\n",
       "    }\n",
       "\n",
       "    .dataframe tbody tr th {\n",
       "        vertical-align: top;\n",
       "    }\n",
       "\n",
       "    .dataframe thead th {\n",
       "        text-align: right;\n",
       "    }\n",
       "</style>\n",
       "<table border=\"1\" class=\"dataframe\">\n",
       "  <thead>\n",
       "    <tr style=\"text-align: right;\">\n",
       "      <th></th>\n",
       "      <th>gender</th>\n",
       "      <th>ft</th>\n",
       "      <th>in</th>\n",
       "      <th>income</th>\n",
       "      <th>height</th>\n",
       "    </tr>\n",
       "    <tr>\n",
       "      <th>tall</th>\n",
       "      <th></th>\n",
       "      <th></th>\n",
       "      <th></th>\n",
       "      <th></th>\n",
       "      <th></th>\n",
       "    </tr>\n",
       "  </thead>\n",
       "  <tbody>\n",
       "    <tr>\n",
       "      <th>short</th>\n",
       "      <td>2343</td>\n",
       "      <td>2343</td>\n",
       "      <td>2343</td>\n",
       "      <td>2343</td>\n",
       "      <td>2343</td>\n",
       "    </tr>\n",
       "    <tr>\n",
       "      <th>tall</th>\n",
       "      <td>2356</td>\n",
       "      <td>2356</td>\n",
       "      <td>2356</td>\n",
       "      <td>2356</td>\n",
       "      <td>2356</td>\n",
       "    </tr>\n",
       "  </tbody>\n",
       "</table>\n",
       "</div>"
      ],
      "text/plain": [
       "       gender    ft    in  income  height\n",
       "tall                                     \n",
       "short    2343  2343  2343    2343    2343\n",
       "tall     2356  2356  2356    2356    2356"
      ]
     },
     "execution_count": 136,
     "metadata": {},
     "output_type": "execute_result"
    }
   ],
   "source": [
    "#1997 data\n",
    "#2343 \"short\" and 2356 \"tall\"\n",
    "df97.groupby('tall').count()"
   ]
  },
  {
   "cell_type": "code",
   "execution_count": 150,
   "metadata": {},
   "outputs": [],
   "source": [
    "average_scores97 = ()\n",
    "simulations = 1000\n",
    "for i in np.arange(simulations):\n",
    "    average_scores97 = np.append(average_scores97, df97['income'].sample(2356, replace = False).mean())"
   ]
  },
  {
   "cell_type": "code",
   "execution_count": 151,
   "metadata": {},
   "outputs": [
    {
     "data": {
      "image/png": "[encoded data removed]",
      "text/plain": [
       "<Figure size 432x288 with 1 Axes>"
      ]
     },
     "metadata": {
      "needs_background": "light"
     },
     "output_type": "display_data"
    }
   ],
   "source": [
    "plt.hist(average_scores97, alpha = 0.5)\n",
    "observed_inc1 = 49915.571307\n",
    "plt.scatter(observed_inc1, 0, color='red', s=30);"
   ]
  },
  {
   "cell_type": "code",
   "execution_count": 152,
   "metadata": {},
   "outputs": [
    {
     "data": {
      "text/plain": [
       "0.0"
      ]
     },
     "execution_count": 152,
     "metadata": {},
     "output_type": "execute_result"
    }
   ],
   "source": [
    "np.count_nonzero(average_scores97 >= observed_inc1)/simulations"
   ]
  },
  {
   "cell_type": "code",
   "execution_count": null,
   "metadata": {},
   "outputs": [],
   "source": [
    "#About 0% of the simulated random sample averages were $49,915 and above. \n",
    "#This provides evidence to reject the null hypothesis that the income distribution is random. "
   ]
  },
  {
   "cell_type": "markdown",
   "metadata": {},
   "source": [
    "### Part 3: The Math of Gender, Sex & Earnings"
   ]
  },
  {
   "cell_type": "raw",
   "metadata": {},
   "source": [
    "You will need the attend the last class to comfortably answer this section of the questions.\n",
    "\n",
    "Please use the data you have in Part 2 to answer the following questions:\n",
    "1. Please list the quartiles of the earnings for both NLYS79 and NLYS97 data sets\n",
    "2. What is the correlation between height and earnings for each of the data sets? What is it when adjusted for gender\n",
    "- what is the r value?\n",
    "3. Please run a regression analysis on the data sets and comment on the effects of height and earnings."
   ]
  },
  {
   "cell_type": "code",
   "execution_count": null,
   "metadata": {},
   "outputs": [],
   "source": [
    "#1. Please list the quartiles of the earnings for both NLYS79 and NLYS97 data sets"
   ]
  },
  {
   "cell_type": "code",
   "execution_count": 112,
   "metadata": {},
   "outputs": [
    {
     "data": {
      "text/plain": [
       "count      6504.000000\n",
       "mean      42425.754151\n",
       "std       60776.295593\n",
       "min           0.000000\n",
       "25%           0.000000\n",
       "50%       28000.000000\n",
       "75%       57223.000000\n",
       "max      370314.000000\n",
       "Name: income, dtype: float64"
      ]
     },
     "execution_count": 112,
     "metadata": {},
     "output_type": "execute_result"
    }
   ],
   "source": [
    "#1979 income quartiles: 1st: $0, 2nd: $0, 3rd: $28000, 4th: $57223\n",
    "df79.income.describe()"
   ]
  },
  {
   "cell_type": "code",
   "execution_count": 113,
   "metadata": {},
   "outputs": [
    {
     "data": {
      "text/plain": [
       "count      4699.000000\n",
       "mean      44201.365610\n",
       "std       35269.995924\n",
       "min           0.000000\n",
       "25%       22000.000000\n",
       "50%       37000.000000\n",
       "75%       56000.000000\n",
       "max      212641.000000\n",
       "Name: income, dtype: float64"
      ]
     },
     "execution_count": 113,
     "metadata": {},
     "output_type": "execute_result"
    }
   ],
   "source": [
    "#1997 income quartiles: 1st: $0, 2nd: $22000, 3rd: $37000, 4th: $56000\n",
    "df97.income.describe()"
   ]
  },
  {
   "cell_type": "code",
   "execution_count": null,
   "metadata": {},
   "outputs": [],
   "source": [
    "#2. What is the correlation between height and earnings for each of the data sets? \n",
    "#What is it when adjusted for gender - what is the r value?"
   ]
  },
  {
   "cell_type": "code",
   "execution_count": 159,
   "metadata": {},
   "outputs": [
    {
     "data": {
      "image/png": "[encoded data removed]",
      "text/plain": [
       "<Figure size 432x288 with 1 Axes>"
      ]
     },
     "metadata": {
      "needs_background": "light"
     },
     "output_type": "display_data"
    }
   ],
   "source": [
    "#1979 data plot\n",
    "plt.scatter(df79['height'], df79['income']);"
   ]
  },
  {
   "cell_type": "code",
   "execution_count": 153,
   "metadata": {},
   "outputs": [],
   "source": [
    "def standardize(numbers):\n",
    "    \"Convert any array of numbers to standard units.\"\n",
    "    return (numbers - np.mean(numbers))/np.std(numbers) "
   ]
  },
  {
   "cell_type": "code",
   "execution_count": 155,
   "metadata": {},
   "outputs": [],
   "source": [
    "df79['heightstd'] = standardize(df79['height'])\n",
    "df79['incstd'] = standardize(df79['income'])"
   ]
  },
  {
   "cell_type": "code",
   "execution_count": 157,
   "metadata": {},
   "outputs": [],
   "source": [
    "df79['product'] = df79['heightstd']*df79['incstd']"
   ]
  },
  {
   "cell_type": "code",
   "execution_count": 158,
   "metadata": {},
   "outputs": [
    {
     "data": {
      "text/plain": [
       "0.22071901194413784"
      ]
     },
     "execution_count": 158,
     "metadata": {},
     "output_type": "execute_result"
    }
   ],
   "source": [
    "# r between height and income is 0.22 for the 1979 data\n",
    "df79['product'].mean()"
   ]
  },
  {
   "cell_type": "code",
   "execution_count": 196,
   "metadata": {},
   "outputs": [
    {
     "data": {
      "text/plain": [
       "gender           2.000000\n",
       "ft               4.976078\n",
       "in               4.547253\n",
       "income       29485.857058\n",
       "height          64.260189\n",
       "tall             0.000000\n",
       "heightstd       -0.665605\n",
       "incstd          -0.212927\n",
       "product          0.168202\n",
       "dtype: float64"
      ]
     },
     "execution_count": 196,
     "metadata": {},
     "output_type": "execute_result"
    }
   ],
   "source": [
    "#r between height and income is 0.17 for females in the 1979 data \n",
    "df79.loc[df79['gender'] == 2].mean()"
   ]
  },
  {
   "cell_type": "code",
   "execution_count": 195,
   "metadata": {},
   "outputs": [
    {
     "data": {
      "text/plain": [
       "gender           1.000000\n",
       "ft               5.333547\n",
       "in               6.148493\n",
       "income       56477.868185\n",
       "height          70.151058\n",
       "tall             0.000000\n",
       "heightstd        0.722816\n",
       "incstd           0.231228\n",
       "product          0.277750\n",
       "dtype: float64"
      ]
     },
     "execution_count": 195,
     "metadata": {},
     "output_type": "execute_result"
    }
   ],
   "source": [
    "#r between height and income is 0.27 for males in the 1979 data \n",
    "df79.loc[df79['gender'] == 1].mean()"
   ]
  },
  {
   "cell_type": "code",
   "execution_count": 160,
   "metadata": {},
   "outputs": [
    {
     "data": {
      "image/png": "[encoded data removed]",
      "text/plain": [
       "<Figure size 432x288 with 1 Axes>"
      ]
     },
     "metadata": {
      "needs_background": "light"
     },
     "output_type": "display_data"
    }
   ],
   "source": [
    "#1997 data plot\n",
    "plt.scatter(df97['height'], df97['income']);"
   ]
  },
  {
   "cell_type": "code",
   "execution_count": 161,
   "metadata": {},
   "outputs": [],
   "source": [
    "df97['heightstd'] = standardize(df97['height'])\n",
    "df97['incstd'] = standardize(df97['income'])"
   ]
  },
  {
   "cell_type": "code",
   "execution_count": 163,
   "metadata": {},
   "outputs": [],
   "source": [
    "df97['product'] = df97['heightstd']*df97['incstd']"
   ]
  },
  {
   "cell_type": "code",
   "execution_count": 165,
   "metadata": {},
   "outputs": [
    {
     "data": {
      "text/plain": [
       "0.1748546620429641"
      ]
     },
     "execution_count": 165,
     "metadata": {},
     "output_type": "execute_result"
    }
   ],
   "source": [
    "# r between height and income is 0.17 for the 1997 data\n",
    "df97['product'].mean()"
   ]
  },
  {
   "cell_type": "code",
   "execution_count": 197,
   "metadata": {},
   "outputs": [
    {
     "data": {
      "text/plain": [
       "gender           1.000000\n",
       "ft               5.381930\n",
       "in               5.931828\n",
       "income       50653.441889\n",
       "height          70.514990\n",
       "tall             0.000000\n",
       "heightstd        0.667026\n",
       "incstd           0.182953\n",
       "product          0.186404\n",
       "dtype: float64"
      ]
     },
     "execution_count": 197,
     "metadata": {},
     "output_type": "execute_result"
    }
   ],
   "source": [
    "#r between height and income is 0.19 for males in the 1997 data \n",
    "df97.loc[df97['gender'] == 1].mean()"
   ]
  },
  {
   "cell_type": "code",
   "execution_count": 198,
   "metadata": {},
   "outputs": [
    {
     "data": {
      "text/plain": [
       "gender           2.000000\n",
       "ft               4.986307\n",
       "in               4.778710\n",
       "income       37261.963781\n",
       "height          64.614399\n",
       "tall             0.000000\n",
       "heightstd       -0.717407\n",
       "incstd          -0.196772\n",
       "product          0.162433\n",
       "dtype: float64"
      ]
     },
     "execution_count": 198,
     "metadata": {},
     "output_type": "execute_result"
    }
   ],
   "source": [
    "#r between height and income is 0.16 for females in the 1997 data\n",
    "df97.loc[df97['gender'] == 2].mean()"
   ]
  },
  {
   "cell_type": "code",
   "execution_count": null,
   "metadata": {},
   "outputs": [],
   "source": [
    "#3. Please run a regression analysis on the data sets and comment on the effects of height and earnings."
   ]
  },
  {
   "cell_type": "code",
   "execution_count": 167,
   "metadata": {},
   "outputs": [
    {
     "data": {
      "text/plain": [
       "LinregressResult(slope=3161.4214079404733, intercept=-169655.84840512846, rvalue=0.22071901194413795, pvalue=1.3658138037682347e-72, stderr=173.25032527222436)"
      ]
     },
     "execution_count": 167,
     "metadata": {},
     "output_type": "execute_result"
    }
   ],
   "source": [
    "from scipy.stats import linregress\n",
    "linregress(df79['height'], df79['income'])"
   ]
  },
  {
   "cell_type": "code",
   "execution_count": null,
   "metadata": {},
   "outputs": [],
   "source": [
    "#Based on our regression output for 1979, we can expect an average $3161 increase in annual income per person \n",
    "#for every inch increase in height. "
   ]
  },
  {
   "cell_type": "code",
   "execution_count": 168,
   "metadata": {},
   "outputs": [
    {
     "data": {
      "text/plain": [
       "LinregressResult(slope=1446.8144625259363, intercept=-53707.54644670888, rvalue=0.17485466204296496, pvalue=1.4124491136635892e-33, stderr=118.87284108988591)"
      ]
     },
     "execution_count": 168,
     "metadata": {},
     "output_type": "execute_result"
    }
   ],
   "source": [
    "linregress(df97['height'], df97['income'])"
   ]
  },
  {
   "cell_type": "code",
   "execution_count": null,
   "metadata": {},
   "outputs": [],
   "source": [
    "#Based on our regression output for 1997, we can expect an average $1447 increase in annual income per person \n",
    "#for every inch increase in height. "
   ]
  }
 ],
 "metadata": {
  "kernelspec": {
   "display_name": "Python 3",
   "language": "python",
   "name": "python3"
  },
  "language_info": {
   "codemirror_mode": {
    "name": "ipython",
    "version": 3
   },
   "file_extension": ".py",
   "mimetype": "text/x-python",
   "name": "python",
   "nbconvert_exporter": "python",
   "pygments_lexer": "ipython3",
   "version": "3.7.0"
  }
 },
 "nbformat": 4,
 "nbformat_minor": 2
}
